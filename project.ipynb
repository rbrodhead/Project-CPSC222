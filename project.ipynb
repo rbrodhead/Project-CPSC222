{
 "cells": [
  {
   "cell_type": "markdown",
   "metadata": {},
   "source": [
    "# Checking Account Data, Sleep and Weather\n",
    "##### Rachel Brodhead | CPSC 222 | Dr. Gina Sprint | 4-15-2022\n",
    "#### In this Jupyter Notebook, we are going to take a look at my personal checking account data, as well as a log of how many hours of sleep I've been getting per night, and daily weather data for Spokane.\n",
    "\n",
    "### Introduction:\n",
    "* The goal of this project is to try to either find trends that suggest my sleep habbits affect my spending habbits, or vice versa, and I also want to look at how the weather affects these things, since while we can't change the weather, being aware of it's potential effects might help me be more mindful about making an effort to compensate (by actively trying to spend less/make more time to have quality sleep, etc)\n",
    "* The data format for my checking and sleep data as well as the weather data is in csv file format, and the weather data comes from our work with the MeteoStat API in DA4\n",
    "    * The checking data was downloaded from US Bank's website.   The dataset had 69 instances after cleaning, and already had the following attributes: \"Date\",\"Transaction\",\"Name\",\"Memo\", and\"Amount\".  The \"Transaction\" attribute was binary- either \"Credit\" or \"Debit\". The \"Memo\" Attribute just said \"Download from usbank.com.****\". Then, from the \"Name\" information, I manually added a column with a class attribute \"Category\", that groups purchases into the following types:\n",
    "        * Gas\n",
    "        * Food (from restaurants or convenience stores, etc)\n",
    "        * Groceries\n",
    "        * Pandora\n",
    "        * Gym\n",
    "        * Income (for a positive value transaction)\n",
    "        * Coffee\n",
    "        * Vending Machine\n",
    "        * Clothes\n",
    "        * Travel\n",
    "        * Misc\n",
    "    * While I typically use cash, I tried to use my card about once per day during this time, since I knew that I wanted to join this data to another table based on the date.\n",
    "    * Since I only had about 3 dates with multiple transactions, I summed a couple transactions for vending machines that occurred at the same time, but was split into multiple purchases/rows, in order to make the joining of the tables more smooth.  I also had a few dates which had more than one row (multiple purchases), so to handle that, I just manually looked for the most frequent purchase type per date, and summed the amounts of those purchases.\n",
    "        * Alternatively, I was looking at turning each instance into a set of columns so all of the transactions would have been condensed into rows with unique dates, but since I was only looking at a few instances, I felt that it was ok to just drop a few rows\n",
    "    * The sleep data was a manually collected dataset that I just recorded in a notebook and then transcribed into a csv file.  It's attributes are \"Date\" and \"Hours Sleep\", rounded to the nearest half hour.  For this I had 57 instances, spanning from 2022-02-14 to 2022-04-12 (with one missing date)\n",
    "    * The Weather data stems from our work with the MeteoStat API, and has the following attributes:\n",
    "        * Date,tavg,tmin,tmax,prcp,snow,wdir,wspd,pres,tsun\n",
    "        * I selected the start date to be \"\" and the end date to be \"2022-04-10\", giving me 69 instances\n",
    "    \n",
    "    #### Goal of this Project:\n",
    "    * In this project, I'm really hoping to see where I'm spending the most money (unnecessarily), as well as what factors can play into my spending habits.  By identifying the cause of some of my spending, I'm hoping to come up with ways of avoiding extra spending based on the circumstance, while also possibly identifying other trends related to my sleep.\n",
    "        * Some questions I am thinking of asking:\n",
    "            * How do my coffee purchases relate to my sleep habits?  Do I sleep worse after buying coffee during the day?  Do I buy more coffee after a bad night of sleep?\n",
    "            * How does my sleep play into how much I spend on food?\n",
    "            * How does the weather relate to my sleep schedule?\n",
    "            * How does the weather relate to my spending?\n",
    "    * Digging into these questions could help me figure out ways to save mone, and potentially sleep better.  I would say that I'm the main stakeholder interested in this result, but also I'm sure that companies could profit off of knowing what purchases people are more likely to make based on things like the weather or hours of sleep, which are attributes that data could be collected on, and then used to improve advertisement targeting.\n",
    "    \n"
   ]
  },
  {
   "cell_type": "markdown",
   "metadata": {},
   "source": [
    "### Data Analysis:\n",
    "#### First, lets load the data into Dataframes using the Pandas Library:\n"
   ]
  },
  {
   "cell_type": "code",
   "execution_count": 1,
   "metadata": {},
   "outputs": [],
   "source": [
    "import pandas as pd\n",
    "import numpy as np\n",
    "\n",
    "#read sleep into pandas DF\n",
    "sleep_df=pd.read_csv(\"sleep.csv\")\n",
    "\n",
    "#read  checking into DF\n",
    "checking_df=pd.read_csv(\"checking-cleaned.csv\")\n",
    "#Drop name, memmo, since these don't tell us anything new\n",
    "del checking_df[\"Name\"]\n",
    "del checking_df[\"Memo\"]\n",
    "\n",
    "#print(checking_df)\n",
    "#make copies of checking for merging:\n",
    "checking_1_df=checking_df.copy()\n",
    "checking_2_df=checking_df.copy()\n",
    "\n",
    "#read weather into DF\n",
    "weather_df=pd.read_csv(\"spokane_daily_weather_cleaned.csv\")\n",
    "# combine checking with sleep\n",
    "merged_sleep_df=sleep_df.merge(checking_1_df,on=[\"Date\"])\n",
    "\n",
    "# combine checking with weather\n",
    "merged_weather_df=weather_df.merge(checking_2_df,on=[\"Date\"])\n"
   ]
  },
  {
   "cell_type": "markdown",
   "metadata": {},
   "source": [
    "#### Next, lets see some basic stats on our data:"
   ]
  },
  {
   "cell_type": "code",
   "execution_count": 2,
   "metadata": {},
   "outputs": [
    {
     "name": "stdout",
     "output_type": "stream",
     "text": [
      "Stats for Category: Amazon\n",
      "{'Count': 2, 'Sum': -52.76, 'Mean': -26.38, 'Standard Deviation': 6.68923015002474, 'Median': -26.38, 'Min': -31.11, 'Max': -21.65}\n",
      "Stats for Category: Clothes\n",
      "{'Count': 2, 'Sum': -86.02000000000001, 'Mean': -43.010000000000005, 'Standard Deviation': 16.17860315354821, 'Median': -43.010000000000005, 'Min': -54.45, 'Max': -31.57}\n",
      "Stats for Category: Coffee\n",
      "{'Count': 10, 'Sum': -59.809999999999995, 'Mean': -5.981, 'Standard Deviation': 3.326651469571166, 'Median': -5.34, 'Min': -14.9, 'Max': -3.27}\n",
      "Stats for Category: Food\n",
      "{'Count': 12, 'Sum': -154.53000000000003, 'Mean': -12.8775, 'Standard Deviation': 13.316650633357817, 'Median': -10.265, 'Min': -54.34, 'Max': -4.7}\n",
      "Stats for Category: Gas\n",
      "{'Count': 4, 'Sum': -127.99, 'Mean': -31.9975, 'Standard Deviation': 5.243900424938164, 'Median': -30.915, 'Min': -38.61, 'Max': -27.55}\n",
      "Stats for Category: Groceries\n",
      "{'Count': 8, 'Sum': -278.15, 'Mean': -34.768750000000004, 'Standard Deviation': 36.14961585944883, 'Median': -20.915, 'Min': -121.74, 'Max': -9.27}\n",
      "Stats for Category: Gym\n",
      "{'Count': 2, 'Sum': -50.2, 'Mean': -25.1, 'Standard Deviation': 0.0, 'Median': -25.1, 'Min': -25.1, 'Max': -25.1}\n",
      "Stats for Category: Hair\n",
      "{'Count': 1, 'Sum': -29.0, 'Mean': -29.0, 'Standard Deviation': nan, 'Median': -29.0, 'Min': -29.0, 'Max': -29.0}\n",
      "Stats for Category: Income\n",
      "{'Count': 5, 'Sum': 1846.3600000000001, 'Mean': 369.27200000000005, 'Standard Deviation': 268.89560775512865, 'Median': 286.51, 'Min': 128.94, 'Max': 829.22}\n",
      "Stats for Category: Misc\n",
      "{'Count': 2, 'Sum': -15.51, 'Mean': -7.755, 'Standard Deviation': 9.043895731375944, 'Median': -7.755, 'Min': -14.15, 'Max': -1.36}\n",
      "Stats for Category: Pandora\n",
      "{'Count': 2, 'Sum': -10.86, 'Mean': -5.43, 'Standard Deviation': 0.0, 'Median': -5.43, 'Min': -5.43, 'Max': -5.43}\n",
      "Stats for Category: Phone\n",
      "{'Count': 3, 'Sum': -69.67, 'Mean': -23.223333333333333, 'Standard Deviation': 0.01154700538379227, 'Median': -23.23, 'Min': -23.23, 'Max': -23.21}\n",
      "Stats for Category: Piercing\n",
      "{'Count': 1, 'Sum': -113.9, 'Mean': -113.9, 'Standard Deviation': nan, 'Median': -113.9, 'Min': -113.9, 'Max': -113.9}\n",
      "Stats for Category: Travel\n",
      "{'Count': 2, 'Sum': -797.58, 'Mean': -398.79, 'Standard Deviation': 317.3636655321463, 'Median': -398.79, 'Min': -623.2, 'Max': -174.38}\n",
      "Stats for Category: Vending Machine\n",
      "{'Count': 12, 'Sum': -36.540000000000006, 'Mean': -3.0450000000000004, 'Standard Deviation': 1.2808555379475506, 'Median': -2.6, 'Min': -5.91, 'Max': -1.35}\n",
      "Stats for Category: Vet Bill\n",
      "{'Count': 1, 'Sum': -100.0, 'Mean': -100.0, 'Standard Deviation': nan, 'Median': -100.0, 'Min': -100.0, 'Max': -100.0}\n"
     ]
    }
   ],
   "source": [
    "import utils\n",
    "grouped_by_category_checking=checking_1_df.groupby(\"Category\")\n",
    "group_keys=grouped_by_category_checking.groups.keys()\n",
    "for key in group_keys:\n",
    "  \n",
    "    print(\"Stats for Category:\",key)\n",
    "    utils.compute_stats(\"Amount\",grouped_by_category_checking.get_group(key))\n"
   ]
  },
  {
   "cell_type": "markdown",
   "metadata": {},
   "source": [
    "# We can also visualize some of our data. Here, lets take a look at the frequency of purchases, based on category:"
   ]
  },
  {
   "cell_type": "code",
   "execution_count": 3,
   "metadata": {},
   "outputs": [
    {
     "data": {
      "image/png": "[encoded data removed]",
      "text/plain": [
       "<Figure size 432x288 with 1 Axes>"
      ]
     },
     "metadata": {},
     "output_type": "display_data"
    }
   ],
   "source": [
    "import matplotlib.pyplot as plt\n",
    "\n",
    "#Visualize transaction frequency\"\n",
    "y_list=[]\n",
    "x_list=[]\n",
    "for group in grouped_by_category_checking:\n",
    "    group_name=group[0]  \n",
    "    #print(group_name)\n",
    "    group_total=len(group[1][\"Category\"])\n",
    "    #print(group_total)\n",
    "    if group_name not in x_list:\n",
    "        x_list+=[group_name]\n",
    "    y_list+=[group_total]\n",
    "y_ser=pd.Series(y_list)\n",
    "x_ser=pd.Series(x_list)\n",
    "#print(y_ser)\n",
    "#print(x_ser)\n",
    "\n",
    "plt.figure() # to create a new \"current\" figure\n",
    "plt.pie(y_ser, labels=x_ser, autopct=\"%.2f%%\")\n",
    "plt.title(\"Frequency of transaction by type\")\n",
    "plt.show()"
   ]
  },
  {
   "cell_type": "markdown",
   "metadata": {},
   "source": [
    "### Now lets do a little t testing for statistical correlation:"
   ]
  },
  {
   "cell_type": "code",
   "execution_count": 4,
   "metadata": {},
   "outputs": [
    {
     "name": "stdout",
     "output_type": "stream",
     "text": [
      "Average sleep on days with coffee: 6.45\n",
      "Average total sleep 7.135714285714286\n",
      "-1.2057937571490847 0.2586395425435638\n",
      "Since p/2>alpha, we cannot reject our null hypothesis\n"
     ]
    }
   ],
   "source": [
    "import scipy.stats as stats\n",
    "#Hypothesis testing:\n",
    "# On days I bought coffee did I sleep less than 6 hourss?\n",
    "\n",
    "coffee=grouped_by_category_checking.get_group(\"Coffee\")\n",
    "\n",
    "coffee_dates=coffee[\"Date\"]\n",
    "merged_coffee_sleep=sleep_df.merge(coffee_dates,on=\"Date\")\n",
    "#print(merged_coffee_sleep)\n",
    "merged_coffee_sleep_mean=merged_coffee_sleep[\"Hours Sleep\"].mean()\n",
    "coffee_sleep_ser=merged_coffee_sleep[\"Hours Sleep\"]\n",
    "\n",
    "\n",
    "print(\"Average sleep on days with coffee:\",merged_coffee_sleep_mean)\n",
    "average_sleep=merged_sleep_df[\"Hours Sleep\"].mean()\n",
    "sleep_ser=merged_sleep_df[\"Hours Sleep\"]\n",
    "\n",
    "print(\"Average total sleep\",average_sleep)\n",
    "\n",
    "#non_coffee_keys=['Amazon', 'Pandora', 'Income', 'Hair', 'Misc', 'Phone', 'Piercing', 'Travel', 'Gym', 'Vending Machine', 'Clothes', 'Gas', 'Food', 'Groceries', 'Vet Bill']\n",
    "#print(non_coffee_keys)\n",
    "\n",
    "merged_sleep_grouped=merged_sleep_df.groupby(\"Category\")\n",
    "\n",
    "#how to remove parts of the dataframe that have coffee for 2 test?\n",
    "\n",
    "#Do a t test for 1 sample:\n",
    "#1. Identify null and alternative hypothesis:\n",
    "# On days I bought coffee did I sleep less than 7 hourss?\n",
    "# Null Hypothesis: Average sleep (on dates that I bought coffee)>= 7\n",
    "# Alternative Hypothesis: Average sleep(on dates that I bought coffee)< 7\n",
    "#2 Select alpha: Level of significance 0.01\n",
    "#3. Choose test statistic:\n",
    "#Ours will be a 1 sample test statistic\n",
    "#4. Formulate decision rule:\n",
    "# For a one tailed test, alpha =0.01, if t_computed is negative, and p<0.05, we can reject our null hypothesis\n",
    "t_computed,p=stats.ttest_1samp(coffee_sleep_ser,7)\n",
    "print(t_computed,p)\n",
    "print(\"Since p/2>alpha, we cannot reject our null hypothesis\")\n"
   ]
  },
  {
   "cell_type": "markdown",
   "metadata": {},
   "source": [
    "### Classification Results:\n",
    "#### Now, we can build a model to predict class labels based on attributes\n",
    "* For this, I want to take a look at sleep, and what could cause good and bad sleep\n",
    "    * In order to do this, I can convert my sleep category into a binary category (good or bad) with bad sleep being less than 7 hours\n",
    "    * Then we can go through the test train split algorithm and use both a Knn and decision tree classifier\n",
    "        * We can also compare the results\n",
    "        * What are che challenges with classification?"
   ]
  },
  {
   "cell_type": "code",
   "execution_count": null,
   "metadata": {},
   "outputs": [],
   "source": []
  },
  {
   "cell_type": "markdown",
   "metadata": {},
   "source": [
    "### Conclusion\n",
    "* A: a short summary of the dataset used\n",
    "* B. The classification approach you developed, it's performance, and ideas on ways to improve performance\n",
    "* C. Describe the potential impacts including ethical impacts for the stakeholders described\n"
   ]
  }
 ],
 "metadata": {
  "interpreter": {
   "hash": "0db662566b5dc5596f24824bd34bee88ecbf01a461d24f13149ac708b4960948"
  },
  "kernelspec": {
   "display_name": "Python 3.9.7 ('base')",
   "language": "python",
   "name": "python3"
  },
  "language_info": {
   "codemirror_mode": {
    "name": "ipython",
    "version": 3
   },
   "file_extension": ".py",
   "mimetype": "text/x-python",
   "name": "python",
   "nbconvert_exporter": "python",
   "pygments_lexer": "ipython3",
   "version": "3.9.7"
  },
  "orig_nbformat": 4
 },
 "nbformat": 4,
 "nbformat_minor": 2
}
